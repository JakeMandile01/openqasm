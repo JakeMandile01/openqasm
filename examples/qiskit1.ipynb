{
 "cells": [
  {
   "cell_type": "code",
   "execution_count": 49,
   "metadata": {},
   "outputs": [
    {
     "data": {
      "text/html": [
       "<pre style=\"word-wrap: normal;white-space: pre;background: #fff0;line-height: 1.1;font-family: &quot;Courier New&quot;,Courier,monospace\">       ┌─┐\n",
       "q32_0: ┤M├\n",
       "       └╥┘\n",
       "q32_1: ─╫─\n",
       "        ║ \n",
       "c29: 2/═╩═\n",
       "        0 </pre>"
      ],
      "text/plain": [
       "       ┌─┐\n",
       "q32_0: ┤M├\n",
       "       └╥┘\n",
       "q32_1: ─╫─\n",
       "        ║ \n",
       "c29: 2/═╩═\n",
       "        0 "
      ]
     },
     "execution_count": 49,
     "metadata": {},
     "output_type": "execute_result"
    }
   ],
   "source": [
    "\n",
    "import numpy as np\n",
    "import matplotlib.pyplot as plt\n",
    "from qiskit import ClassicalRegister, QuantumCircuit, QuantumRegister\n",
    "\n",
    "\n",
    "# Creating a Quantum Register qr with 2 Qubits\n",
    "qr = QuantumRegister(2)\n",
    "\n",
    "# Creating a Classical Register cr with 2 bits\n",
    "cr = ClassicalRegister(2)\n",
    "\n",
    "# Creating a Quantum Circuit qc using Quantum Register qr and Classical Register cr\n",
    "qc = QuantumCircuit(qr, cr)\n",
    "\n",
    "# Creating a Quantum Circuit qc 2 Qubits and 2 bits\n",
    "# qc = QuantumCircuit(0, 0)\n",
    "\n",
    "# qc.draw()\n",
    "\n",
    "# Creating a Quantum Circuit from qr and cr\n",
    "circuit=QuantumCircuit(qr, cr)\n",
    "\n",
    "# plot_bloch_vector([0, 0, -1], title=\"Bloch Sphere for state |0>\")\n",
    "\n",
    "# Measuring the 1st Qubit(at 0 index) on the 1st bit(at 0 index)\n",
    "circuit.measure(0, 0)\n",
    "\n",
    "# Vizualizing the Circuit after measurement\n",
    "circuit.draw()"
   ]
  }
 ],
 "metadata": {
  "kernelspec": {
   "display_name": "Python 3",
   "language": "python",
   "name": "python3"
  },
  "language_info": {
   "codemirror_mode": {
    "name": "ipython",
    "version": 3
   },
   "file_extension": ".py",
   "mimetype": "text/x-python",
   "name": "python",
   "nbconvert_exporter": "python",
   "pygments_lexer": "ipython3",
   "version": "3.9.6"
  },
  "orig_nbformat": 4
 },
 "nbformat": 4,
 "nbformat_minor": 2
}
