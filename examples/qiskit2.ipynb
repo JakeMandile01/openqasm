{
 "cells": [
  {
   "cell_type": "code",
   "execution_count": 4,
   "metadata": {},
   "outputs": [
    {
     "data": {
      "text/html": [
       "<pre style=\"word-wrap: normal;white-space: pre;background: #fff0;line-height: 1.1;font-family: &quot;Courier New&quot;,Courier,monospace\">        ┌───┐ ░ ┌─┐   \n",
       "   q_0: ┤ X ├─░─┤M├───\n",
       "        └───┘ ░ └╥┘┌─┐\n",
       "   q_1: ──────░──╫─┤M├\n",
       "              ░  ║ └╥┘\n",
       "meas: 2/═════════╩══╩═\n",
       "                 0  1 </pre>"
      ],
      "text/plain": [
       "        ┌───┐ ░ ┌─┐   \n",
       "   q_0: ┤ X ├─░─┤M├───\n",
       "        └───┘ ░ └╥┘┌─┐\n",
       "   q_1: ──────░──╫─┤M├\n",
       "              ░  ║ └╥┘\n",
       "meas: 2/═════════╩══╩═\n",
       "                 0  1 "
      ]
     },
     "execution_count": 4,
     "metadata": {},
     "output_type": "execute_result"
    }
   ],
   "source": [
    "import numpy as np\n",
    "import matplotlib.pyplot as plt\n",
    "from qiskit import ClassicalRegister, QuantumCircuit, QuantumRegister\n",
    "\n",
    "# Creating a Quantum Circuit with 2 Qubits\n",
    "circuit = QuantumCircuit(2)\n",
    "\n",
    "# Adding X Gate on Qubit 0\n",
    "circuit.x(0)\n",
    "\n",
    "# Measuring all the Qubits at once by using measure_all method\n",
    "circuit.measure_all()\n",
    "\n",
    "# Vizualizing the Circuit after measurement\n",
    "circuit.draw()\n"
   ]
  },
  {
   "cell_type": "code",
   "execution_count": 18,
   "metadata": {},
   "outputs": [
    {
     "name": "stdout",
     "output_type": "stream",
     "text": [
      "6\n",
      "0\n",
      "0\n",
      "3\n",
      "3\n",
      "0\n",
      "[]\n"
     ]
    }
   ],
   "source": [
    "import numpy as np\n",
    "import matplotlib.pyplot as plt\n",
    "from qiskit import ClassicalRegister, QuantumCircuit, QuantumRegister\n",
    "\n",
    "\n",
    "# Creating a Quantum Register qr with 3 Qubits\n",
    "qr = QuantumRegister(3)\n",
    "\n",
    "# Creating a Classical Register cr with 3 bits\n",
    "cr = ClassicalRegister(3)\n",
    "\n",
    "# Creating a Quantum Circuit qc using Quantum Register qr and Classical Register cr\n",
    "qc = QuantumCircuit(qr, cr)\n",
    "\n",
    "# Storing width of Quantum Circuit in depth\n",
    "width = qc.width()\n",
    "\n",
    "print(width)\n",
    "# Outputs- 6\n",
    "\n",
    "# Storing size of Quantum Circuit in size\n",
    "size = qc.size()\n",
    "\n",
    "print(size)\n",
    "# Outputs- 9\n",
    "\n",
    "# Storing depth of Quantum Circuit in depth\n",
    "depth = qc.depth()\n",
    "\n",
    "print(depth)\n",
    "# Outputs- 4\n",
    "\n",
    "print(qc.num_clbits)\n",
    "# Outputs- 3\n",
    "\n",
    "print(qc.num_qubits)\n",
    "# Outputs- 3\n",
    "\n",
    "print(qc.global_phase)\n",
    "# Outputs- 0\n",
    "\n",
    "print(qc.data)"
   ]
  },
  {
   "cell_type": "code",
   "execution_count": 1,
   "metadata": {},
   "outputs": [
    {
     "data": {
      "text/html": [
       "<pre style=\"word-wrap: normal;white-space: pre;background: #fff0;line-height: 1.1;font-family: &quot;Courier New&quot;,Courier,monospace\">      ┌─┐   \n",
       "q0_0: ┤M├───\n",
       "      └╥┘┌─┐\n",
       "q0_1: ─╫─┤M├\n",
       "       ║ └╥┘\n",
       "q0_2: ─╫──╫─\n",
       "       ║  ║ \n",
       "c0: 3/═╩══╩═\n",
       "       0  1 </pre>"
      ],
      "text/plain": [
       "      ┌─┐   \n",
       "q0_0: ┤M├───\n",
       "      └╥┘┌─┐\n",
       "q0_1: ─╫─┤M├\n",
       "       ║ └╥┘\n",
       "q0_2: ─╫──╫─\n",
       "       ║  ║ \n",
       "c0: 3/═╩══╩═\n",
       "       0  1 "
      ]
     },
     "execution_count": 1,
     "metadata": {},
     "output_type": "execute_result"
    }
   ],
   "source": [
    "\n",
    "import numpy as np\n",
    "import matplotlib.pyplot as plt\n",
    "from qiskit import ClassicalRegister, QuantumCircuit, QuantumRegister\n",
    "\n",
    "\n",
    "# Creating a Quantum Register qr with 2 Qubits\n",
    "qr = QuantumRegister(3)\n",
    "\n",
    "# Creating a Classical Register cr with 2 bits\n",
    "cr = ClassicalRegister(3)\n",
    "\n",
    "# Creating a Quantum Circuit qc using Quantum Register qr and Classical Register cr\n",
    "qc = QuantumCircuit(qr, cr)\n",
    "\n",
    "# Creating a Quantum Circuit from qr and cr\n",
    "circuit=QuantumCircuit(qr, cr)\n",
    "\n",
    "# Measuring the 1st Qubit(at 0 index) on the 1st bit(at 0 index)\n",
    "# circuit.measure(0, 0)\n",
    "\n",
    "# Measuring the 1st Qubit in the 1st bit and 2nd Qubit in the 2nd bit\n",
    "circuit.measure([0, 1], [0, 1])\n",
    "\n",
    "# Vizualizing the Circuit after measurement\n",
    "circuit.draw()\n"
   ]
  },
  {
   "cell_type": "code",
   "execution_count": 2,
   "metadata": {},
   "outputs": [
    {
     "data": {
      "text/html": [
       "<pre style=\"word-wrap: normal;white-space: pre;background: #fff0;line-height: 1.1;font-family: &quot;Courier New&quot;,Courier,monospace\">      ┌───┐\n",
       "q2_0: ┤ X ├\n",
       "      └───┘\n",
       "q2_1: ─────\n",
       "           </pre>"
      ],
      "text/plain": [
       "      ┌───┐\n",
       "q2_0: ┤ X ├\n",
       "      └───┘\n",
       "q2_1: ─────\n",
       "           "
      ]
     },
     "execution_count": 2,
     "metadata": {},
     "output_type": "execute_result"
    }
   ],
   "source": [
    "import numpy as np\n",
    "import matplotlib.pyplot as plt\n",
    "from qiskit import ClassicalRegister, QuantumCircuit, QuantumRegister\n",
    "\n",
    "# Creating a Quantum Register with 2 Qubit\n",
    "qr = QuantumRegister(2)\n",
    "\n",
    "# Creating a Quantum Circuit\n",
    "circuit = QuantumCircuit(qr)\n",
    "\n",
    "# Applying X Gate on the first Qubit\n",
    "circuit.x(0)\n",
    "\n",
    "# Drawing the Quantum Circuit\n",
    "circuit.draw()\n"
   ]
  },
  {
   "cell_type": "code",
   "execution_count": 3,
   "metadata": {},
   "outputs": [
    {
     "data": {
      "text/html": [
       "<pre style=\"word-wrap: normal;white-space: pre;background: #fff0;line-height: 1.1;font-family: &quot;Courier New&quot;,Courier,monospace\">      ┌───┐\n",
       "q3_0: ┤ Y ├\n",
       "      └───┘\n",
       "q3_1: ─────\n",
       "           </pre>"
      ],
      "text/plain": [
       "      ┌───┐\n",
       "q3_0: ┤ Y ├\n",
       "      └───┘\n",
       "q3_1: ─────\n",
       "           "
      ]
     },
     "execution_count": 3,
     "metadata": {},
     "output_type": "execute_result"
    }
   ],
   "source": [
    "import numpy as np\n",
    "import matplotlib.pyplot as plt\n",
    "from qiskit import ClassicalRegister, QuantumCircuit, QuantumRegister\n",
    "\n",
    "\n",
    "# Creating a Quantum Register with 1 Qubit\n",
    "qr = QuantumRegister(2)\n",
    "\n",
    "# Creating a Quantum Circuit\n",
    "circuit = QuantumCircuit(qr)\n",
    "\n",
    "# Applying Y Gate on the first Qubit\n",
    "circuit.y(0)\n",
    "\n",
    "# Drawing the Quantum Circuit\n",
    "circuit.draw()"
   ]
  },
  {
   "cell_type": "code",
   "execution_count": 4,
   "metadata": {},
   "outputs": [
    {
     "data": {
      "text/html": [
       "<pre style=\"word-wrap: normal;white-space: pre;background: #fff0;line-height: 1.1;font-family: &quot;Courier New&quot;,Courier,monospace\">      ┌───┐\n",
       "q4_0: ┤ Z ├\n",
       "      └───┘\n",
       "q4_1: ─────\n",
       "           </pre>"
      ],
      "text/plain": [
       "      ┌───┐\n",
       "q4_0: ┤ Z ├\n",
       "      └───┘\n",
       "q4_1: ─────\n",
       "           "
      ]
     },
     "execution_count": 4,
     "metadata": {},
     "output_type": "execute_result"
    }
   ],
   "source": [
    "import numpy as np\n",
    "import matplotlib.pyplot as plt\n",
    "from qiskit import ClassicalRegister, QuantumCircuit, QuantumRegister\n",
    "\n",
    "\n",
    "# Creating a Quantum Register with 1 Qubit\n",
    "qr = QuantumRegister(2)\n",
    "\n",
    "# Creating a Quantum Circuit\n",
    "circuit = QuantumCircuit(qr)\n",
    "\n",
    "# Applying z Gate on the first Qubit\n",
    "circuit.z(0)\n",
    "\n",
    "# Drawing the Quantum Circuit\n",
    "circuit.draw()"
   ]
  },
  {
   "cell_type": "code",
   "execution_count": 5,
   "metadata": {},
   "outputs": [
    {
     "data": {
      "text/html": [
       "<pre style=\"word-wrap: normal;white-space: pre;background: #fff0;line-height: 1.1;font-family: &quot;Courier New&quot;,Courier,monospace\">      ┌───┐\n",
       "q5_0: ┤ I ├\n",
       "      └───┘\n",
       "q5_1: ─────\n",
       "           </pre>"
      ],
      "text/plain": [
       "      ┌───┐\n",
       "q5_0: ┤ I ├\n",
       "      └───┘\n",
       "q5_1: ─────\n",
       "           "
      ]
     },
     "execution_count": 5,
     "metadata": {},
     "output_type": "execute_result"
    }
   ],
   "source": [
    "import numpy as np\n",
    "import matplotlib.pyplot as plt\n",
    "from qiskit import ClassicalRegister, QuantumCircuit, QuantumRegister\n",
    "\n",
    "\n",
    "# Creating a Quantum Register with 1 Qubit\n",
    "qr = QuantumRegister(2)\n",
    "\n",
    "# Creating a Quantum Circuit\n",
    "circuit = QuantumCircuit(qr)\n",
    "\n",
    "# Applying I Gate on the first Qubit\n",
    "circuit.i(0)\n",
    "\n",
    "# Drawing the Quantum Circuit\n",
    "circuit.draw()"
   ]
  },
  {
   "cell_type": "code",
   "execution_count": 6,
   "metadata": {},
   "outputs": [
    {
     "data": {
      "text/html": [
       "<pre style=\"word-wrap: normal;white-space: pre;background: #fff0;line-height: 1.1;font-family: &quot;Courier New&quot;,Courier,monospace\">      ┌───┐\n",
       "q6_0: ┤ H ├\n",
       "      └───┘\n",
       "q6_1: ─────\n",
       "           </pre>"
      ],
      "text/plain": [
       "      ┌───┐\n",
       "q6_0: ┤ H ├\n",
       "      └───┘\n",
       "q6_1: ─────\n",
       "           "
      ]
     },
     "execution_count": 6,
     "metadata": {},
     "output_type": "execute_result"
    }
   ],
   "source": [
    "import numpy as np\n",
    "import matplotlib.pyplot as plt\n",
    "from qiskit import ClassicalRegister, QuantumCircuit, QuantumRegister\n",
    "\n",
    "\n",
    "# Creating a Quantum Register with 1 Qubit\n",
    "qr = QuantumRegister(2)\n",
    "\n",
    "# Creating a Quantum Circuit\n",
    "circuit = QuantumCircuit(qr)\n",
    "\n",
    "# Applying Hadamard Gate on the first Qubit\n",
    "circuit.h(0)\n",
    "\n",
    "# Drawing the Quantum Circuit\n",
    "circuit.draw()"
   ]
  }
 ],
 "metadata": {
  "kernelspec": {
   "display_name": "Python 3",
   "language": "python",
   "name": "python3"
  },
  "language_info": {
   "codemirror_mode": {
    "name": "ipython",
    "version": 3
   },
   "file_extension": ".py",
   "mimetype": "text/x-python",
   "name": "python",
   "nbconvert_exporter": "python",
   "pygments_lexer": "ipython3",
   "version": "3.9.6"
  },
  "orig_nbformat": 4
 },
 "nbformat": 4,
 "nbformat_minor": 2
}
